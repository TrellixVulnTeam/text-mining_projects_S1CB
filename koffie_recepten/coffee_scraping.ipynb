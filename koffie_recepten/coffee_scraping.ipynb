{
 "cells": [
  {
   "cell_type": "code",
   "execution_count": 2,
   "metadata": {},
   "outputs": [],
   "source": [
    "import pandas as pd\n",
    "import numpy as np\n",
    "import requests\n",
    "from bs4 import BeautifulSoup"
   ]
  },
  {
   "cell_type": "code",
   "execution_count": 3,
   "metadata": {},
   "outputs": [
    {
     "data": {
      "text/plain": [
       "94"
      ]
     },
     "execution_count": 3,
     "metadata": {},
     "output_type": "execute_result"
    }
   ],
   "source": [
    "coffee_recepten = []\n",
    "\n",
    "for i in range(1,5):\n",
    "    response = requests.get(f\"https://www.dekoffiefilters.nl/recepten/page/{i}/\")\n",
    "    content = response.content\n",
    "    parser = BeautifulSoup(content, 'html.parser')\n",
    "    body = parser.body\n",
    "    recepten = body.find_all(class_=\"article-teaser\")\n",
    "    coffee_recepten.extend(recepten) \n",
    "len(coffee_recepten)"
   ]
  },
  {
   "cell_type": "code",
   "execution_count": null,
   "metadata": {},
   "outputs": [],
   "source": [
    "recepten_lijst =[]\n",
    "\n",
    "for coffee_recept in coffee_recepten:\n",
    "    title_element = coffee_recept.find(class_=\"entry-title\").get_text()\n",
    "    intro_element = coffee_recept.find(class_=\"entry-content\").get_text()\n",
    "    # print(title_element)\n",
    "    # print(intro_element)\n",
    "    recepten_lijst.append([title_element, intro_element])\n",
    "    # print()\n",
    "\n",
    "print(recepten_lijst[:100])"
   ]
  },
  {
   "cell_type": "code",
   "execution_count": 41,
   "metadata": {},
   "outputs": [
    {
     "name": "stdout",
     "output_type": "stream",
     "text": [
      "                                               Title  \\\n",
      "0                          Traditionele Arretjescake   \n",
      "1  Zo maak je fryramisu (tiramisu met Fryske dúmkes)   \n",
      "2            Dé frisse koffiecocktail van deze zomer   \n",
      "3                        De populaire Dalgona koffie   \n",
      "4         Koffie milkshake met vanille-ijs en banaan   \n",
      "\n",
      "                                         Description  \n",
      "0  \\n\\nDeze cake is perfect bij de koffie door zi...  \n",
      "1  \\n\\nFyramisu. Want wat met lange vingers kan, ...  \n",
      "2  \\n\\nProbeer deze heerlijke frisse koffiecockta...  \n",
      "3  \\n\\nFluffy ijskoffie is de koffie trend van 20...  \n",
      "4  \\n\\nZin in een zoete koffie variant? Deze koff...  \n"
     ]
    }
   ],
   "source": [
    "df = pd.DataFrame(recepten_lijst, columns=[\"Title\", \"Description\"])\n",
    "print(df.head())"
   ]
  },
  {
   "cell_type": "code",
   "execution_count": 44,
   "metadata": {},
   "outputs": [],
   "source": [
    "df[\"Description\"] = df[\"Description\"].str.replace(\"\\n\\n\",\"\")"
   ]
  },
  {
   "cell_type": "code",
   "execution_count": 45,
   "metadata": {},
   "outputs": [
    {
     "data": {
      "text/html": [
       "<div>\n",
       "<style scoped>\n",
       "    .dataframe tbody tr th:only-of-type {\n",
       "        vertical-align: middle;\n",
       "    }\n",
       "\n",
       "    .dataframe tbody tr th {\n",
       "        vertical-align: top;\n",
       "    }\n",
       "\n",
       "    .dataframe thead th {\n",
       "        text-align: right;\n",
       "    }\n",
       "</style>\n",
       "<table border=\"1\" class=\"dataframe\">\n",
       "  <thead>\n",
       "    <tr style=\"text-align: right;\">\n",
       "      <th></th>\n",
       "      <th>Title</th>\n",
       "      <th>Description</th>\n",
       "    </tr>\n",
       "  </thead>\n",
       "  <tbody>\n",
       "    <tr>\n",
       "      <th>0</th>\n",
       "      <td>Traditionele Arretjescake</td>\n",
       "      <td>Deze cake is perfect bij de koffie door zijn i...</td>\n",
       "    </tr>\n",
       "    <tr>\n",
       "      <th>1</th>\n",
       "      <td>Zo maak je fryramisu (tiramisu met Fryske dúmkes)</td>\n",
       "      <td>Fyramisu. Want wat met lange vingers kan, kan ...</td>\n",
       "    </tr>\n",
       "    <tr>\n",
       "      <th>2</th>\n",
       "      <td>Dé frisse koffiecocktail van deze zomer</td>\n",
       "      <td>Probeer deze heerlijke frisse koffiecocktail m...</td>\n",
       "    </tr>\n",
       "    <tr>\n",
       "      <th>3</th>\n",
       "      <td>De populaire Dalgona koffie</td>\n",
       "      <td>Fluffy ijskoffie is de koffie trend van 2020. ...</td>\n",
       "    </tr>\n",
       "    <tr>\n",
       "      <th>4</th>\n",
       "      <td>Koffie milkshake met vanille-ijs en banaan</td>\n",
       "      <td>Zin in een zoete koffie variant? Deze koffie m...</td>\n",
       "    </tr>\n",
       "  </tbody>\n",
       "</table>\n",
       "</div>"
      ],
      "text/plain": [
       "                                               Title  \\\n",
       "0                          Traditionele Arretjescake   \n",
       "1  Zo maak je fryramisu (tiramisu met Fryske dúmkes)   \n",
       "2            Dé frisse koffiecocktail van deze zomer   \n",
       "3                        De populaire Dalgona koffie   \n",
       "4         Koffie milkshake met vanille-ijs en banaan   \n",
       "\n",
       "                                         Description  \n",
       "0  Deze cake is perfect bij de koffie door zijn i...  \n",
       "1  Fyramisu. Want wat met lange vingers kan, kan ...  \n",
       "2  Probeer deze heerlijke frisse koffiecocktail m...  \n",
       "3  Fluffy ijskoffie is de koffie trend van 2020. ...  \n",
       "4  Zin in een zoete koffie variant? Deze koffie m...  "
      ]
     },
     "execution_count": 45,
     "metadata": {},
     "output_type": "execute_result"
    }
   ],
   "source": [
    "df.head()"
   ]
  },
  {
   "cell_type": "code",
   "execution_count": 47,
   "metadata": {},
   "outputs": [],
   "source": [
    "df.to_csv('koffie_recepten.csv')"
   ]
  }
 ],
 "metadata": {
  "kernelspec": {
   "display_name": "Python 3.9.13 ('text-mining-project': venv)",
   "language": "python",
   "name": "python3"
  },
  "language_info": {
   "codemirror_mode": {
    "name": "ipython",
    "version": 3
   },
   "file_extension": ".py",
   "mimetype": "text/x-python",
   "name": "python",
   "nbconvert_exporter": "python",
   "pygments_lexer": "ipython3",
   "version": "3.9.13"
  },
  "orig_nbformat": 4,
  "vscode": {
   "interpreter": {
    "hash": "0f6621d33a515243d0b1f16a9aa78ae6645e3b4a44fc26b70300d5d5ae90d3ea"
   }
  }
 },
 "nbformat": 4,
 "nbformat_minor": 2
}
