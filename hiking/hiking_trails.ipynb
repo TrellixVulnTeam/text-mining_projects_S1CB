{
 "cells": [
  {
   "cell_type": "code",
   "execution_count": 16,
   "metadata": {},
   "outputs": [],
   "source": [
    "import pandas as pd\n",
    "import numpy as np\n",
    "import requests\n",
    "from bs4 import BeautifulSoup"
   ]
  },
  {
   "cell_type": "code",
   "execution_count": 44,
   "metadata": {},
   "outputs": [
    {
     "name": "stdout",
     "output_type": "stream",
     "text": [
      "b'<html>\\n<head><title>503 Service Temporarily Unavailable</title></head>\\n<body>\\n<center><h1>503 Service Temporarily Unavailable</h1></center>\\n<hr><center>nginx</center>\\n<script defer src=\"https://static.cloudflareinsights.com/beacon.min.js/v652eace1692a40cfa3763df669d7439c1639079717194\" integrity=\"sha512-Gi7xpJR8tSkrpF7aordPZQlW2DLtzUlZcumS8dMQjwDHEnw9I7ZLyiOj/6tZStRBGtGgN6ceN6cMH8z7etPGlw==\" data-cf-beacon=\\'{\"rayId\":\"7356d7444db8b72e\",\"token\":\"a711f439afb74b99ad527f2d96a6c2a2\",\"version\":\"2022.6.0\",\"si\":100}\\' crossorigin=\"anonymous\"></script>\\n</body>\\n</html>\\n'\n"
     ]
    }
   ],
   "source": [
    "\n",
    "import requests\n",
    "URL = \"https://www.wikiloc.com/trails/hiking/switzerland/\"\n",
    "r = requests.get(URL)\n",
    "print(r.content)"
   ]
  },
  {
   "cell_type": "code",
   "execution_count": 47,
   "metadata": {},
   "outputs": [],
   "source": [
    "# from bs4 import BeautifulSoup\n",
    "\n",
    "# URL = \"https://realpython.github.io/fake-jobs/\"\n",
    "# page = requests.get(URL)\n",
    "\n",
    "# soup = BeautifulSoup(page.content, \"html.parser\")\n",
    "\n",
    "# results = soup.find(id=\"ResultsContainer\")\n",
    "\n",
    "# print(results.prettify())"
   ]
  },
  {
   "cell_type": "code",
   "execution_count": 46,
   "metadata": {},
   "outputs": [],
   "source": [
    "# import requests\n",
    "# from bs4 import BeautifulSoup\n",
    "\n",
    "# URL = \"https://www.wikiloc.com/trails/hiking/switzerland\"\n",
    "# page = requests.get(URL)\n",
    "\n",
    "# soup = BeautifulSoup(page.content, \"html.parser\")\n",
    "\n",
    "# results = soup.find(id=\"content\")\n",
    "\n",
    "# print(results.prettify())"
   ]
  },
  {
   "cell_type": "code",
   "execution_count": 45,
   "metadata": {},
   "outputs": [],
   "source": [
    "# hiking_trails_swiss= []\n",
    "\n",
    "# for i in range(1,2):\n",
    "#     response = requests.get(f\"https://www.wikiloc.com/trails/hiking/switzerland/\")\n",
    "#     content = response.content\n",
    "#     parser = BeautifulSoup(content, 'html.parser')\n",
    "#     body = parser.body\n",
    "#     trails = body.find_all(id_=\"trails\")\n",
    "#     hiking_trails_swiss.extend(trails) \n",
    "# len(hiking_trails_swiss)\n",
    "\n",
    "# lijst =[]\n",
    "\n",
    "# for i in hiking_trails_swiss:\n",
    "#     title_element = i.find(class_=\"trail__title\").get_text()\n",
    "#     intro_element = i.find(class_=\"trail__description\").get_text()\n",
    "#     # print(title_element)\n",
    "#     # print(intro_element)\n",
    "#     lijst.append([title_element, intro_element])\n",
    "#     # print()\n",
    "\n",
    "# print(lijst[:3])"
   ]
  }
 ],
 "metadata": {
  "kernelspec": {
   "display_name": "Python 3.9.13 ('text-mining-project': venv)",
   "language": "python",
   "name": "python3"
  },
  "language_info": {
   "codemirror_mode": {
    "name": "ipython",
    "version": 3
   },
   "file_extension": ".py",
   "mimetype": "text/x-python",
   "name": "python",
   "nbconvert_exporter": "python",
   "pygments_lexer": "ipython3",
   "version": "3.9.13"
  },
  "orig_nbformat": 4,
  "vscode": {
   "interpreter": {
    "hash": "0f6621d33a515243d0b1f16a9aa78ae6645e3b4a44fc26b70300d5d5ae90d3ea"
   }
  }
 },
 "nbformat": 4,
 "nbformat_minor": 2
}
